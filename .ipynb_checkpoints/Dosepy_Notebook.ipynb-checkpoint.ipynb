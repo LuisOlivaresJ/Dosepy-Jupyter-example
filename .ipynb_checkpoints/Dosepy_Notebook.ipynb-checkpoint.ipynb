{
 "cells": [
  {
   "cell_type": "markdown",
   "id": "4b088647",
   "metadata": {},
   "source": [
    "# Uso de *Dosepy* dentro de un notebook de Jupyter"
   ]
  },
  {
   "cell_type": "markdown",
   "id": "80b4f780",
   "metadata": {},
   "source": []
  },
  {
   "cell_type": "code",
   "execution_count": 5,
   "id": "a994a71e",
   "metadata": {},
   "outputs": [],
   "source": [
    "%matplotlib qt"
   ]
  },
  {
   "cell_type": "code",
   "execution_count": 3,
   "id": "bc38a91a",
   "metadata": {},
   "outputs": [],
   "source": [
    "from skimage.morphology import diamond\n",
    "import numpy as np\n",
    "import matplotlib.pyplot as plt"
   ]
  },
  {
   "cell_type": "code",
   "execution_count": 2,
   "id": "2fd3cfb9",
   "metadata": {},
   "outputs": [],
   "source": [
    "b = diamond(7)\n"
   ]
  },
  {
   "cell_type": "markdown",
   "id": "9efe2927",
   "metadata": {},
   "source": [
    "El siguiente código muestra "
   ]
  },
  {
   "cell_type": "code",
   "execution_count": 7,
   "id": "afdca399",
   "metadata": {},
   "outputs": [],
   "source": [
    "plt.imshow(b)\n",
    "plt.show()"
   ]
  },
  {
   "cell_type": "code",
   "execution_count": 6,
   "id": "4acc0167",
   "metadata": {},
   "outputs": [],
   "source": [
    "import Dosepy.data as data"
   ]
  },
  {
   "cell_type": "code",
   "execution_count": 10,
   "id": "a236f9fe",
   "metadata": {},
   "outputs": [],
   "source": [
    "import pkg_resources"
   ]
  },
  {
   "cell_type": "code",
   "execution_count": 15,
   "id": "a97e9b28",
   "metadata": {},
   "outputs": [],
   "source": [
    "path_D_film = pkg_resources.resource_filename('Dosepy', 'data/D_FILM.csv')"
   ]
  },
  {
   "cell_type": "code",
   "execution_count": 16,
   "id": "87c6e394",
   "metadata": {},
   "outputs": [],
   "source": [
    "import numpy as np"
   ]
  },
  {
   "cell_type": "code",
   "execution_count": 17,
   "id": "d80e05f9",
   "metadata": {},
   "outputs": [],
   "source": [
    "D_film = np.genfromtxt(path_D_film, delimiter=',')"
   ]
  },
  {
   "cell_type": "code",
   "execution_count": 18,
   "id": "2253c264",
   "metadata": {},
   "outputs": [
    {
     "data": {
      "text/plain": [
       "array([[2.374, 2.371, 2.327, ..., 1.933, 1.904, 1.863],\n",
       "       [2.399, 2.392, 2.366, ..., 1.956, 1.886, 1.879],\n",
       "       [2.461, 2.458, 2.465, ..., 1.956, 1.926, 1.853],\n",
       "       ...,\n",
       "       [2.036, 2.048, 2.006, ..., 2.251, 2.245, 2.278],\n",
       "       [1.998, 1.938, 1.941, ..., 2.234, 2.235, 2.214],\n",
       "       [1.892, 1.87 , 1.846, ..., 2.182, 2.17 , 2.195]])"
      ]
     },
     "execution_count": 18,
     "metadata": {},
     "output_type": "execute_result"
    }
   ],
   "source": [
    "D_film"
   ]
  }
 ],
 "metadata": {
  "kernelspec": {
   "display_name": "Python 3 (ipykernel)",
   "language": "python",
   "name": "python3"
  },
  "language_info": {
   "codemirror_mode": {
    "name": "ipython",
    "version": 3
   },
   "file_extension": ".py",
   "mimetype": "text/x-python",
   "name": "python",
   "nbconvert_exporter": "python",
   "pygments_lexer": "ipython3",
   "version": "3.10.8"
  },
  "varInspector": {
   "cols": {
    "lenName": 16,
    "lenType": 16,
    "lenVar": 40
   },
   "kernels_config": {
    "python": {
     "delete_cmd_postfix": "",
     "delete_cmd_prefix": "del ",
     "library": "var_list.py",
     "varRefreshCmd": "print(var_dic_list())"
    },
    "r": {
     "delete_cmd_postfix": ") ",
     "delete_cmd_prefix": "rm(",
     "library": "var_list.r",
     "varRefreshCmd": "cat(var_dic_list()) "
    }
   },
   "position": {
    "height": "357.51px",
    "left": "852px",
    "right": "20px",
    "top": "85px",
    "width": "371.667px"
   },
   "types_to_exclude": [
    "module",
    "function",
    "builtin_function_or_method",
    "instance",
    "_Feature"
   ],
   "window_display": false
  }
 },
 "nbformat": 4,
 "nbformat_minor": 5
}
